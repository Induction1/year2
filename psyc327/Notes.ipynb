{
 "cells": [
  {
   "cell_type": "markdown",
   "id": "887548a7-0817-4186-a5b3-8ee6ec2ad9c3",
   "metadata": {},
   "source": [
    "## 8/28/24\n",
    "- Computational Linguistics allow computers to use language in speech recognition, sentiment analysis, etc.\n",
    "- Engineering computational linguistics = NLP.\n",
    "- Scientific computational linguistics shed light on nature of langauge (competence, performance, change\n",
    "- How to get computers to learn and use langauge as efficiently as humans do?\n",
    "\n",
    "- What is there to know about langauge?\n",
    "    - Phonology/phonetics: what combinations of sounds constitute linguistic forms?\n",
    "    - Morphology: How are the basic units of meaning composed into words?\n",
    "    - Syntax: How to determine which word combinations are possible?\n",
    "    - Semantics: What is the meaning of words and phrases comprising the sentence?\n",
    "    - Discourse: How does context influence interpretation?\n",
    "    - Pragmatics: What should you conclude from the fact that I said something?\n",
    "- What makes language computation hard?\n",
    "    - Ambiguity: occurs at every level of linguistic structure\n",
    "      - Phonology: Hearing different words that make the same general sound\n",
    "      - Morphology: unlockable = unlock-able or un-lockable\n",
    "      - Syntax: I like A more than B or I like A more than B likes A\n",
    "      - Semantics: Bat = vampire bat vs baseball bat\n",
    "      - Discourse: I dropped A onto B and it broke -> it = A or B\n",
    "    - Ambiguity is pervasive -> difficult for computers to guess correctly\n",
    "    - Latent structure:\n",
    "      - Compare \"Alex is easy/eager to please\" gives different subjects.\n",
    "    - How to get latent structure available to computers?\n",
    "    - Sparsity: many times words appear very infrequently\n",
    "      - Zipf's Law: Frequency is inversely proportional to the rank of a word in $f(w_i) \\approx \\dfrac{k}{\\text{rank}(w_i)^g}$"
   ]
  }
 ],
 "metadata": {
  "kernelspec": {
   "display_name": "Python 3 (ipykernel)",
   "language": "python",
   "name": "python3"
  },
  "language_info": {
   "codemirror_mode": {
    "name": "ipython",
    "version": 3
   },
   "file_extension": ".py",
   "mimetype": "text/x-python",
   "name": "python",
   "nbconvert_exporter": "python",
   "pygments_lexer": "ipython3",
   "version": "3.12.4"
  }
 },
 "nbformat": 4,
 "nbformat_minor": 5
}
