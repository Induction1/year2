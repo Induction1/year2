{
 "cells": [
  {
   "cell_type": "markdown",
   "id": "fc308ed5-ff47-486f-8697-bb447ec16454",
   "metadata": {},
   "source": [
    "## 8/28/24\n",
    "Materials posted to: https://ydata123.org/fa24/interml/calendar.html <br />\n",
    "Materials to Intro ML posted to: https://ydata123.org/fa23/introml/calendar.html <br />\n",
    "Help emails to: sds365@yale.edu <br />\n",
    "\n",
    "- The brain has both:\n",
    "    - Neocortical: efficient function approximation\n",
    "    - Prefrontal: rapid abstraction, association\n"
   ]
  },
  {
   "cell_type": "markdown",
   "id": "fa306ab5-f529-44dc-8403-359fa970fbb8",
   "metadata": {},
   "source": [
    "## 8/30/24\n",
    "- Pairs $(X_1, Y_1), \\ldots, (X_n, Y_n)$ form $\\mathcal{D}$ set called training data. $Y_i \\in \\mathbb{R}$ is the response, $X_i \\in \\mathbb{R}^\\rho$ is the input.\n",
    "- "
   ]
  }
 ],
 "metadata": {
  "kernelspec": {
   "display_name": "Python 3 (ipykernel)",
   "language": "python",
   "name": "python3"
  },
  "language_info": {
   "codemirror_mode": {
    "name": "ipython",
    "version": 3
   },
   "file_extension": ".py",
   "mimetype": "text/x-python",
   "name": "python",
   "nbconvert_exporter": "python",
   "pygments_lexer": "ipython3",
   "version": "3.12.4"
  }
 },
 "nbformat": 4,
 "nbformat_minor": 5
}
