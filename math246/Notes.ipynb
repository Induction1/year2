{
 "cells": [
  {
   "cell_type": "markdown",
   "id": "ce640ad0-b0ff-43ec-a932-fbea6db129d3",
   "metadata": {},
   "source": [
    "## 8/29/24\n",
    "- Differential Equations contain derivates, where ordinary means it contains derivatives of a single variable\n",
    "- "
   ]
  }
 ],
 "metadata": {
  "kernelspec": {
   "display_name": "Python 3 (ipykernel)",
   "language": "python",
   "name": "python3"
  },
  "language_info": {
   "codemirror_mode": {
    "name": "ipython",
    "version": 3
   },
   "file_extension": ".py",
   "mimetype": "text/x-python",
   "name": "python",
   "nbconvert_exporter": "python",
   "pygments_lexer": "ipython3",
   "version": "3.12.4"
  }
 },
 "nbformat": 4,
 "nbformat_minor": 5
}
